{
 "cells": [
  {
   "cell_type": "code",
   "execution_count": 230,
   "id": "c71934a2",
   "metadata": {},
   "outputs": [],
   "source": [
    "movie_info = [ #{'movie_name':'Krish',\"start_date\":'18 mar',\"end_date\":'28 apr'},\n",
    "                {'movie_name':'Bala',\"start_date\":'08 jan',\"end_date\":'28 jan'},\n",
    "               {'movie_name':'Rock',\"start_date\":'20 jan',\"end_date\":'30 jan'},\n",
    "               {'movie_name':'PolicyMaker',\"start_date\":'29 jan',\"end_date\":'16 feb'},\n",
    "               {'movie_name':'Brave',\"start_date\":'02 feb',\"end_date\":'14 feb'},\n",
    "               {'movie_name':'Race',\"start_date\":'15 feb',\"end_date\":'28 feb'},\n",
    "               {'movie_name':'Dhoom',\"start_date\":'25 feb',\"end_date\":'18 mar'},\n",
    "               {'movie_name':'King',\"start_date\":'29 feb',\"end_date\":'10 mar'},\n",
    "            ]"
   ]
  },
  {
   "cell_type": "code",
   "execution_count": 233,
   "id": "a4edb87b",
   "metadata": {},
   "outputs": [],
   "source": [
    "def ret_movie_list(movies):\n",
    "    temp = {}\n",
    "    new_movie_info = {}\n",
    "    \n",
    "    for i in range(len(movies)):\n",
    "        for j in range(i+1,len(movies)):\n",
    "            \n",
    "            # month match.......................\n",
    "            if movies[i]['start_date'].split()[1] == movies[j]['start_date'].split()[1] and movies[i]['end_date'].split()[1] == movies[j]['end_date'].split()[1]:\n",
    "                #print(movies[i]['movie_name'],movies[j]['movie_name']+\" ---> \"+\"month matched\")\n",
    "                \n",
    "                if ( int(movies[i]['start_date'].split()[0]) > int(movies[j]['start_date'].split()[0]) ):\n",
    "                    #print(movies[i]['movie_name'],movies[j]['movie_name']+\" ---> \"+\" i movie start after j movie\", \"..............Done\")\n",
    "                    #seq.append({movies[i]['movie_name']:movies[j]['movie_name']})\n",
    "                    \n",
    "                    if movies[i]['movie_name'] not in temp:\n",
    "                        temp[movies[i]['movie_name']] = [movies[j]['movie_name']]\n",
    "                    else:\n",
    "                        temp[movies[i]['movie_name']].append(movies[j]['movie_name'])\n",
    "                    \n",
    "                    \n",
    "                elif ( int(movies[i]['end_date'].split()[0]) < int(movies[j]['start_date'].split()[0]) ):\n",
    "                    #print(movies[i]['movie_name'],movies[j]['movie_name']+\" ---> \"+\" i movie end before j movie\", \"..............Done\")\n",
    "                    #seq.append({movies[i]['movie_name']:movies[j]['movie_name']})  \n",
    "                    \n",
    "                    if movies[i]['movie_name'] not in temp:\n",
    "                        temp[movies[i]['movie_name']] = [movies[j]['movie_name']]\n",
    "                    else:\n",
    "                        temp[movies[i]['movie_name']].append(movies[j]['movie_name'])\n",
    "                     \n",
    "                else:\n",
    "                    pass\n",
    "                    #print(movies[i]['movie_name'],movies[j]['movie_name']+\" ---> \"+\" i and j movie overlap each other\")\n",
    "            \n",
    "            # only start month match , end month not match\n",
    "            elif movies[i]['start_date'].split()[1] == movies[j]['start_date'].split()[1] and movies[i]['end_date'].split()[1] != movies[j]['end_date'].split()[1]:\n",
    "                #print(movies[i]['movie_name'],movies[j]['movie_name']+\" ---> \",\"start match end not match\")\n",
    "                if ( int(movies[i]['end_date'].split()[0]) < int(movies[j]['start_date'].split()[0]) ):\n",
    "                    #print(movies[i]['movie_name'],movies[j]['movie_name']+\" ---> \"+\" i movie finish befor j movie\", \".............Done\")\n",
    "                    #seq.append({movies[i]['movie_name']:movies[j]['movie_name']})\n",
    "                    \n",
    "                    if movies[i]['movie_name'] not in temp:\n",
    "                        temp[movies[i]['movie_name']] = [movies[j]['movie_name']]\n",
    "                    else:\n",
    "                        temp[movies[i]['movie_name']].append(movies[j]['movie_name'])\n",
    "                else:\n",
    "                    pass\n",
    "                    #print(movies[i]['movie_name'],movies[j]['movie_name']+\" ---> \"+\" i and j movie overlap each other\")\n",
    "            \n",
    "            # no start end month matches\n",
    "            elif movies[i]['start_date'].split()[1] != movies[j]['start_date'].split()[1] and movies[i]['end_date'].split()[1] != movies[j]['end_date'].split()[1]:\n",
    "                #print(movies[i]['movie_name'],movies[j]['movie_name']+\" --> \"+\"no month matches\", \"..........................Done\")\n",
    "                #seq.append({movies[i]['movie_name']:movies[j]['movie_name']})\n",
    "                \n",
    "                if movies[i]['movie_name'] not in temp:\n",
    "                        temp[movies[i]['movie_name']] = [movies[j]['movie_name']]\n",
    "                else:\n",
    "                    temp[movies[i]['movie_name']].append(movies[j]['movie_name'])\n",
    "    \n",
    "    # getting corect sequence of movie for again\n",
    "    for movie in movies:\n",
    "        new_movie_info[movie['movie_name']] = {'start_date':movie['start_date'],'end_date':movie['end_date']}\n",
    "                    \n",
    "    return temp,new_movie_info"
   ]
  },
  {
   "cell_type": "code",
   "execution_count": 234,
   "id": "b98ba84c",
   "metadata": {},
   "outputs": [],
   "source": [
    "temp,new_movie_info = ret_movie_list(movie_info)"
   ]
  },
  {
   "cell_type": "code",
   "execution_count": 235,
   "id": "fe1f72de",
   "metadata": {},
   "outputs": [
    {
     "name": "stdout",
     "output_type": "stream",
     "text": [
      "{'Bala': ['PolicyMaker', 'Brave', 'Race', 'Dhoom', 'King'], 'Rock': ['Brave', 'Race', 'Dhoom', 'King'], 'PolicyMaker': ['Dhoom', 'King'], 'Brave': ['Race', 'Dhoom', 'King'], 'Race': ['King'], 'Dhoom': ['King']} \n",
      "\n",
      "{'Bala': {'start_date': '08 jan', 'end_date': '28 jan'}, 'Rock': {'start_date': '20 jan', 'end_date': '30 jan'}, 'PolicyMaker': {'start_date': '29 jan', 'end_date': '16 feb'}, 'Brave': {'start_date': '02 feb', 'end_date': '14 feb'}, 'Race': {'start_date': '15 feb', 'end_date': '28 feb'}, 'Dhoom': {'start_date': '25 feb', 'end_date': '18 mar'}, 'King': {'start_date': '29 feb', 'end_date': '10 mar'}}\n"
     ]
    }
   ],
   "source": [
    "print(temp,\"\\n\")\n",
    "print(new_movie_info)"
   ]
  },
  {
   "cell_type": "code",
   "execution_count": 267,
   "id": "762b9f8e",
   "metadata": {},
   "outputs": [
    {
     "data": {
      "text/plain": [
       "['Bala', 'Brave', 'Race', 'Dhoom', 'King']"
      ]
     },
     "execution_count": 267,
     "metadata": {},
     "output_type": "execute_result"
    }
   ],
   "source": [
    "main_seq = get_sequence(temp,new_movie_info)\n",
    "main_seq"
   ]
  },
  {
   "cell_type": "code",
   "execution_count": 264,
   "id": "ac376c3f",
   "metadata": {},
   "outputs": [],
   "source": [
    "def get_sequence(temp,new_movie_info):\n",
    "    temp2 = {}\n",
    "    \n",
    "    length = 0\n",
    "    li = []\n",
    "    main_seq = []\n",
    "    \n",
    "    for key in temp:\n",
    "        for i in range(0,len(temp[key])-1):\n",
    "\n",
    "            # month match.......................\n",
    "            if new_movie_info[temp[key][i]]['start_date'].split()[1] == new_movie_info[temp[key][i+1]]['start_date'].split()[1] and new_movie_info[temp[key][i]]['end_date'].split()[1] == new_movie_info[temp[key][i+1]]['end_date'].split()[1]:\n",
    "                #print(key,new_movie_info[temp[key][i]],new_movie_info[temp[key][i+1]],\"month match..................\")\n",
    "\n",
    "                if ( int(new_movie_info[temp[key][i]]['start_date'].split()[0]) > int(new_movie_info[temp[key][i+1]]['start_date'].split()[0]) ):\n",
    "                    #print(key,new_movie_info[temp[key][i]],new_movie_info[temp[key][i+1]],\"i movie start after j movie..............Done\")\n",
    "                    \n",
    "                    if key not in temp2:\n",
    "                        temp2[key] = [temp[key][i],temp[key][i+1]]\n",
    "                    else:\n",
    "                        #temp2[key].append(temp[key][i],temp[key][i+1])\n",
    "                        temp2[key].append(temp[key][i])\n",
    "                        temp2[key].append(temp[key][i+1])\n",
    "                        \n",
    "                elif ( int(new_movie_info[temp[key][i]]['end_date'].split()[0]) < int(new_movie_info[temp[key][i+1]]['start_date'].split()[0]) ):\n",
    "                    #print(key,new_movie_info[temp[key][i]],new_movie_info[temp[key][i+1]],\"i movie end before j movie..................Done\")\n",
    "                    \n",
    "                    if key not in temp2:\n",
    "                        temp2[key] = [temp[key][i],temp[key][i+1]]\n",
    "                    else:\n",
    "                        #temp2[key].append(temp[key][i],temp[key][i+1])\n",
    "                        temp2[key].append(temp[key][i])\n",
    "                        temp2[key].append(temp[key][i+1])\n",
    "                else:\n",
    "                    pass\n",
    "                    #print(key,new_movie_info[temp[key][i]],new_movie_info[temp[key][i+1]],\"i and j movie overlap each other\")\n",
    "\n",
    "            # only start month match , end month not match\n",
    "            elif new_movie_info[temp[key][i]]['start_date'].split()[1] == new_movie_info[temp[key][i+1]]['start_date'].split()[1] and new_movie_info[temp[key][i]]['end_date'].split()[1] != new_movie_info[temp[key][i+1]]['end_date'].split()[1]:\n",
    "                #print(key,new_movie_info[temp[key][i]],new_movie_info[temp[key][i+1]],\"start match end not match\")\n",
    "\n",
    "                if ( int(new_movie_info[temp[key][i]]['end_date'].split()[0]) < int(new_movie_info[temp[key][i+1]]['start_date'].split()[0]) ):\n",
    "                    #print(key,new_movie_info[temp[key][i]],new_movie_info[temp[key][i+1]],\"i movie finish befor j movie.....DOne\")\n",
    "                    \n",
    "                    if key not in temp2:\n",
    "                        temp2[key] = [temp[key][i],temp[key][i+1]]\n",
    "                    else:\n",
    "                        #temp2[key].append(temp[key][i],temp[key][i+1])  \n",
    "                        temp2[key].append(temp[key][i])\n",
    "                        temp2[key].append(temp[key][i+1])\n",
    "                else:\n",
    "                    pass\n",
    "                    #print(key,new_movie_info[temp[key][i]],new_movie_info[temp[key][i+1]],\"i and j movie overlap each other\")\n",
    "\n",
    "            # no start end month matches\n",
    "            elif new_movie_info[temp[key][i]]['start_date'].split()[1] != new_movie_info[temp[key][i+1]]['start_date'].split()[1] and new_movie_info[temp[key][i]]['end_date'].split()[1] != new_movie_info[temp[key][i+1]]['end_date'].split()[1]:\n",
    "                #print(key,new_movie_info[temp[key][i]],new_movie_info[temp[key][i+1]],\"no month matches...........\")\n",
    "                \n",
    "                if key not in temp2:\n",
    "                    temp2[key] = [temp[key][i],temp[key][i+1]]\n",
    "                else:\n",
    "                    #temp2[key].append(temp[key][i],temp[key][i+1])\n",
    "                    temp2[key].append(temp[key][i])\n",
    "                    temp2[key].append(temp[key][i+1])\n",
    "    \n",
    "    \n",
    "    # return proper sequence\n",
    "    for key in temp2:\n",
    "        if length < len(temp2[key]):\n",
    "            length = len(temp2[key])\n",
    "            li.append(key)\n",
    "            main_seq.append(key)\n",
    "    for movi in temp2[li[-1]]:\n",
    "        main_seq.append(movi)\n",
    "    \n",
    "    return main_seq\n"
   ]
  },
  {
   "cell_type": "code",
   "execution_count": 265,
   "id": "41fe0dc4",
   "metadata": {},
   "outputs": [
    {
     "data": {
      "text/plain": [
       "{'Bala': ['Brave', 'Race', 'Dhoom', 'King'],\n",
       " 'Rock': ['Brave', 'Race', 'Dhoom', 'King'],\n",
       " 'PolicyMaker': ['Dhoom', 'King'],\n",
       " 'Brave': ['Dhoom', 'King']}"
      ]
     },
     "execution_count": 265,
     "metadata": {},
     "output_type": "execute_result"
    }
   ],
   "source": [
    "temp2"
   ]
  },
  {
   "cell_type": "code",
   "execution_count": 260,
   "id": "263fd07e",
   "metadata": {},
   "outputs": [],
   "source": [
    "length = 0\n",
    "li = []\n",
    "main_seq = []\n",
    "for key in temp2:\n",
    "    if length < len(temp2[key]):\n",
    "        length = len(temp2[key])\n",
    "        li.append(key)\n",
    "        main_seq.append(key)\n",
    "for movi in temp2[li[-1]]:\n",
    "    main_seq.append(movi)"
   ]
  },
  {
   "cell_type": "code",
   "execution_count": 261,
   "id": "ba80ebea",
   "metadata": {},
   "outputs": [
    {
     "data": {
      "text/plain": [
       "['Bala', 'Brave', 'Race', 'Dhoom', 'King']"
      ]
     },
     "execution_count": 261,
     "metadata": {},
     "output_type": "execute_result"
    }
   ],
   "source": [
    "main_seq"
   ]
  },
  {
   "cell_type": "code",
   "execution_count": 263,
   "id": "ea69b3cb",
   "metadata": {},
   "outputs": [
    {
     "data": {
      "text/plain": [
       "['Bala', 'Brave', 'Race', 'Dhoom', 'King']"
      ]
     },
     "execution_count": 263,
     "metadata": {},
     "output_type": "execute_result"
    }
   ],
   "source": [
    "se = get_seq(temp2)\n",
    "se"
   ]
  },
  {
   "cell_type": "code",
   "execution_count": 262,
   "id": "09a32a7f",
   "metadata": {},
   "outputs": [],
   "source": [
    "def get_seq(seq):\n",
    "    length = 0\n",
    "    li = []\n",
    "    main_seq = []\n",
    "    for key in seq:\n",
    "        if length < len(seq[key]):\n",
    "            length = len(seq[key])\n",
    "            li.append(key)\n",
    "            main_seq.append(key)\n",
    "    for movi in seq[li[-1]]:\n",
    "        main_seq.append(movi)\n",
    "    return main_seq"
   ]
  },
  {
   "cell_type": "code",
   "execution_count": 209,
   "id": "5f8e45f4",
   "metadata": {},
   "outputs": [
    {
     "ename": "TypeError",
     "evalue": "get_sequence() missing 1 required positional argument: 'new_movie_info'",
     "output_type": "error",
     "traceback": [
      "\u001b[1;31m---------------------------------------------------------------------------\u001b[0m",
      "\u001b[1;31mTypeError\u001b[0m                                 Traceback (most recent call last)",
      "\u001b[1;32m<ipython-input-209-66cf55a52539>\u001b[0m in \u001b[0;36m<module>\u001b[1;34m\u001b[0m\n\u001b[1;32m----> 1\u001b[1;33m \u001b[0mtemp2\u001b[0m \u001b[1;33m=\u001b[0m \u001b[0mget_sequence\u001b[0m\u001b[1;33m(\u001b[0m\u001b[0mtemp\u001b[0m\u001b[1;33m)\u001b[0m\u001b[1;33m\u001b[0m\u001b[1;33m\u001b[0m\u001b[0m\n\u001b[0m",
      "\u001b[1;31mTypeError\u001b[0m: get_sequence() missing 1 required positional argument: 'new_movie_info'"
     ]
    }
   ],
   "source": [
    "temp2 = get_sequence(temp)"
   ]
  },
  {
   "cell_type": "code",
   "execution_count": 210,
   "id": "fba431ea",
   "metadata": {},
   "outputs": [
    {
     "data": {
      "text/plain": [
       "['Rock', 'Brave', 'Race']"
      ]
     },
     "execution_count": 210,
     "metadata": {},
     "output_type": "execute_result"
    }
   ],
   "source": [
    "main_seq = get_seq(temp2)\n",
    "main_seq"
   ]
  },
  {
   "cell_type": "code",
   "execution_count": 211,
   "id": "476dac74",
   "metadata": {},
   "outputs": [
    {
     "ename": "TypeError",
     "evalue": "get_sequence() missing 1 required positional argument: 'new_movie_info'",
     "output_type": "error",
     "traceback": [
      "\u001b[1;31m---------------------------------------------------------------------------\u001b[0m",
      "\u001b[1;31mTypeError\u001b[0m                                 Traceback (most recent call last)",
      "\u001b[1;32m<ipython-input-211-53808215fbd7>\u001b[0m in \u001b[0;36m<module>\u001b[1;34m\u001b[0m\n\u001b[1;32m----> 1\u001b[1;33m \u001b[0miu\u001b[0m \u001b[1;33m=\u001b[0m \u001b[0mget_sequence\u001b[0m\u001b[1;33m(\u001b[0m\u001b[0mtemp\u001b[0m\u001b[1;33m)\u001b[0m\u001b[1;33m\u001b[0m\u001b[1;33m\u001b[0m\u001b[0m\n\u001b[0m\u001b[0;32m      2\u001b[0m \u001b[0miu\u001b[0m\u001b[1;33m\u001b[0m\u001b[1;33m\u001b[0m\u001b[0m\n",
      "\u001b[1;31mTypeError\u001b[0m: get_sequence() missing 1 required positional argument: 'new_movie_info'"
     ]
    }
   ],
   "source": [
    "iu = get_sequence(temp)\n",
    "iu"
   ]
  },
  {
   "cell_type": "code",
   "execution_count": 212,
   "id": "7183b9e6",
   "metadata": {},
   "outputs": [],
   "source": [
    "seq = {'Bala': [ 'Brave', 'Race'],\n",
    "       'Kala': [ 'Brave', 'Race','DOne'],\n",
    "     'Rock': ['Brave', 'Race'],\n",
    "     'Brave': ['Race']}"
   ]
  },
  {
   "cell_type": "code",
   "execution_count": 213,
   "id": "517eefd0",
   "metadata": {},
   "outputs": [],
   "source": [
    "def get_seq(seq):\n",
    "    length = 0\n",
    "    li = []\n",
    "    main_seq = []\n",
    "    for key in seq:\n",
    "        if length < len(seq[key]):\n",
    "            length = len(seq[key])\n",
    "            li.append(key)\n",
    "    main_seq.append(key)\n",
    "    #for movi in seq[li[-1]]:\n",
    "     #   main_seq.append(movi)\n",
    "    #return main_seq\n",
    "    print(li)"
   ]
  },
  {
   "cell_type": "code",
   "execution_count": 203,
   "id": "5dd9f792",
   "metadata": {},
   "outputs": [
    {
     "name": "stdout",
     "output_type": "stream",
     "text": [
      "['Bala', 'Kala']\n"
     ]
    }
   ],
   "source": [
    "get_seq(seq)"
   ]
  },
  {
   "cell_type": "code",
   "execution_count": null,
   "id": "7f46f57e",
   "metadata": {},
   "outputs": [],
   "source": []
  },
  {
   "cell_type": "code",
   "execution_count": null,
   "id": "43e381e8",
   "metadata": {},
   "outputs": [],
   "source": []
  }
 ],
 "metadata": {
  "kernelspec": {
   "display_name": "Python 3",
   "language": "python",
   "name": "python3"
  },
  "language_info": {
   "codemirror_mode": {
    "name": "ipython",
    "version": 3
   },
   "file_extension": ".py",
   "mimetype": "text/x-python",
   "name": "python",
   "nbconvert_exporter": "python",
   "pygments_lexer": "ipython3",
   "version": "3.8.8"
  }
 },
 "nbformat": 4,
 "nbformat_minor": 5
}
