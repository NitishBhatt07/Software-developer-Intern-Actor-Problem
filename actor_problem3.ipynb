{
 "cells": [
  {
   "cell_type": "code",
   "execution_count": 318,
   "id": "baab6b0c",
   "metadata": {},
   "outputs": [],
   "source": [
    "movie_info = [ #{'movie_name':'Krish',\"start_date\":'18 mar',\"end_date\":'28 apr'},\n",
    "                {'movie_name':'Bala',\"start_date\":'08 jan',\"end_date\":'28 jan'},\n",
    "               {'movie_name':'Rock',\"start_date\":'20 jan',\"end_date\":'30 jan'},\n",
    "               {'movie_name':'PolicyMaker',\"start_date\":'29 jan',\"end_date\":'16 feb'},\n",
    "               {'movie_name':'Brave',\"start_date\":'02 feb',\"end_date\":'14 feb'},\n",
    "               {'movie_name':'Race',\"start_date\":'15 feb',\"end_date\":'28 feb'},\n",
    "               {'movie_name':'Dhoom',\"start_date\":'25 feb',\"end_date\":'18 mar'},\n",
    "               {'movie_name':'King',\"start_date\":'29 feb',\"end_date\":'10 mar'},\n",
    "            ]"
   ]
  },
  {
   "cell_type": "code",
   "execution_count": 332,
   "id": "f8861dae",
   "metadata": {},
   "outputs": [
    {
     "data": {
      "text/plain": [
       "[{'movie_name': 'Dhoom', 'start_date': '25 mar', 'end_date': '18 apr'},\n",
       " {'movie_name': 'King', 'start_date': '29 apr', 'end_date': '10 jun'},\n",
       " {'movie_name': 'Run', 'start_date': '09 may', 'end_date': '2 jun'},\n",
       " {'movie_name': 'Bala', 'start_date': '08 jan', 'end_date': '28 jan'},\n",
       " {'movie_name': 'Rock', 'start_date': '20 jan', 'end_date': '30 jan'},\n",
       " {'movie_name': 'PolicyMaker', 'start_date': '29 jan', 'end_date': '16 feb'},\n",
       " {'movie_name': 'Brave', 'start_date': '02 feb', 'end_date': '14 feb'},\n",
       " {'movie_name': 'Race', 'start_date': '15 feb', 'end_date': '28 feb'}]"
      ]
     },
     "execution_count": 332,
     "metadata": {},
     "output_type": "execute_result"
    }
   ],
   "source": [
    "movie_info3 = [{'movie_name': 'Dhoom', 'start_date': '25 mar','end_date': '18 apr'},\n",
    "                {'movie_name': 'King', 'start_date': '29 apr', 'end_date': '10 jun'},\n",
    "               {'movie_name': 'Run', 'start_date': '09 may', 'end_date': '2 jun'},\n",
    "                {'movie_name': 'Bala', 'start_date': '08 jan','end_date': '28 jan'},\n",
    "                {'movie_name': 'Rock', 'start_date': '20 jan', 'end_date': '30 jan'},\n",
    "                {'movie_name': 'PolicyMaker', 'start_date': '29 jan', 'end_date': '16 feb'},\n",
    "                {'movie_name': 'Brave', 'start_date': '02 feb',  'end_date': '14 feb'},\n",
    "                {'movie_name': 'Race', 'start_date': '15 feb',  'end_date': '28 feb'},\n",
    "                ]\n",
    "movie_info3"
   ]
  },
  {
   "cell_type": "code",
   "execution_count": 333,
   "id": "5b449913",
   "metadata": {},
   "outputs": [],
   "source": [
    "def get_indexed_dict(movie_info):\n",
    "    new = []\n",
    "    months = {'jan':1,'feb':2,'mar':3,'apr':4,'may':5,'jun':6}\n",
    "    for i in range(len(movie_info)):\n",
    "        \n",
    "        new.append({ 'movie_name': movie_info[i]['movie_name'],\n",
    "                    'start_date': movie_info[i]['start_date'],\n",
    "                    'start_month': int(months[movie_info[i]['start_date'].split()[1]]),\n",
    "                    'end_date': movie_info[i]['end_date']\n",
    "                   })\n",
    "    \n",
    "    # soting by month\n",
    "    newlist = sorted(new, key=lambda d: d['start_month'])\n",
    "    return newlist"
   ]
  },
  {
   "cell_type": "code",
   "execution_count": 347,
   "id": "0fdd52eb",
   "metadata": {},
   "outputs": [
    {
     "data": {
      "text/plain": [
       "[{'movie_name': 'Bala',\n",
       "  'start_date': '08 jan',\n",
       "  'start_month': 1,\n",
       "  'end_date': '28 jan'},\n",
       " {'movie_name': 'Rock',\n",
       "  'start_date': '20 jan',\n",
       "  'start_month': 1,\n",
       "  'end_date': '30 jan'},\n",
       " {'movie_name': 'PolicyMaker',\n",
       "  'start_date': '29 jan',\n",
       "  'start_month': 1,\n",
       "  'end_date': '16 feb'},\n",
       " {'movie_name': 'Brave',\n",
       "  'start_date': '02 feb',\n",
       "  'start_month': 2,\n",
       "  'end_date': '14 feb'},\n",
       " {'movie_name': 'Race',\n",
       "  'start_date': '15 feb',\n",
       "  'start_month': 2,\n",
       "  'end_date': '28 feb'},\n",
       " {'movie_name': 'Dhoom',\n",
       "  'start_date': '25 mar',\n",
       "  'start_month': 3,\n",
       "  'end_date': '18 apr'},\n",
       " {'movie_name': 'King',\n",
       "  'start_date': '29 apr',\n",
       "  'start_month': 4,\n",
       "  'end_date': '10 jun'},\n",
       " {'movie_name': 'Run',\n",
       "  'start_date': '09 may',\n",
       "  'start_month': 5,\n",
       "  'end_date': '2 jun'}]"
      ]
     },
     "execution_count": 347,
     "metadata": {},
     "output_type": "execute_result"
    }
   ],
   "source": [
    "new = get_indexed_dict(movie_info3)\n",
    "new"
   ]
  },
  {
   "cell_type": "code",
   "execution_count": 353,
   "id": "ab5d9665",
   "metadata": {},
   "outputs": [],
   "source": [
    "def ret_movie_list(movies):\n",
    "    temp = {}\n",
    "    new_movie_info = {}\n",
    "    \n",
    "    for i in range(len(movies)):\n",
    "        for j in range(i+1,len(movies)):\n",
    "            \n",
    "            # month match.......................\n",
    "            if movies[i]['start_date'].split()[1] == movies[j]['start_date'].split()[1] and movies[i]['end_date'].split()[1] == movies[j]['end_date'].split()[1]:\n",
    "                #print(movies[i]['movie_name'],movies[j]['movie_name']+\" ---> \"+\"month matched\")\n",
    "                \n",
    "                if ( int(movies[i]['start_date'].split()[0]) > int(movies[j]['start_date'].split()[0]) ):\n",
    "                    #print(movies[i]['movie_name'],movies[j]['movie_name']+\" ---> \"+\" i movie start after j movie\", \"..............Done\")\n",
    "                    #seq.append({movies[i]['movie_name']:movies[j]['movie_name']})\n",
    "                    \n",
    "                    if movies[i]['movie_name'] not in temp:\n",
    "                        temp[movies[i]['movie_name']] = [movies[j]['movie_name']]\n",
    "                    else:\n",
    "                        temp[movies[i]['movie_name']].append(movies[j]['movie_name'])\n",
    "                    \n",
    "                    \n",
    "                elif ( int(movies[i]['end_date'].split()[0]) < int(movies[j]['start_date'].split()[0]) ):\n",
    "                    #print(movies[i]['movie_name'],movies[j]['movie_name']+\" ---> \"+\" i movie end before j movie\", \"..............Done\")\n",
    "                    #seq.append({movies[i]['movie_name']:movies[j]['movie_name']})  \n",
    "                    \n",
    "                    if movies[i]['movie_name'] not in temp:\n",
    "                        temp[movies[i]['movie_name']] = [movies[j]['movie_name']]\n",
    "                    else:\n",
    "                        temp[movies[i]['movie_name']].append(movies[j]['movie_name'])\n",
    "                     \n",
    "                else:\n",
    "                    pass\n",
    "                    #print(movies[i]['movie_name'],movies[j]['movie_name']+\" ---> \"+\" i and j movie overlap each other\")\n",
    "            \n",
    "            # only start month match , end month not match\n",
    "            elif movies[i]['start_date'].split()[1] == movies[j]['start_date'].split()[1] and movies[i]['end_date'].split()[1] != movies[j]['end_date'].split()[1]:\n",
    "                #print(movies[i]['movie_name'],movies[j]['movie_name']+\" ---> \",\"start match end not match\")\n",
    "                if ( int(movies[i]['end_date'].split()[0]) < int(movies[j]['start_date'].split()[0]) ):\n",
    "                    #print(movies[i]['movie_name'],movies[j]['movie_name']+\" ---> \"+\" i movie finish befor j movie\", \".............Done\")\n",
    "                    #seq.append({movies[i]['movie_name']:movies[j]['movie_name']})\n",
    "                    \n",
    "                    if movies[i]['movie_name'] not in temp:\n",
    "                        temp[movies[i]['movie_name']] = [movies[j]['movie_name']]\n",
    "                    else:\n",
    "                        temp[movies[i]['movie_name']].append(movies[j]['movie_name'])\n",
    "                else:\n",
    "                    pass\n",
    "                    #print(movies[i]['movie_name'],movies[j]['movie_name']+\" ---> \"+\" i and j movie overlap each other\")\n",
    "            \n",
    "            # no start end month matches\n",
    "            elif movies[i]['start_date'].split()[1] != movies[j]['start_date'].split()[1] and movies[i]['end_date'].split()[1] != movies[j]['end_date'].split()[1]:\n",
    "                #print(movies[i]['movie_name'],movies[j]['movie_name']+\" --> \"+\"no month matches\", \"..........................Done\")\n",
    "                #seq.append({movies[i]['movie_name']:movies[j]['movie_name']})\n",
    "                \n",
    "                if movies[i]['movie_name'] not in temp:\n",
    "                        temp[movies[i]['movie_name']] = [movies[j]['movie_name']]\n",
    "                else:\n",
    "                    temp[movies[i]['movie_name']].append(movies[j]['movie_name'])\n",
    "    \n",
    "    # getting corect sequence of movie for again\n",
    "    for movie in movies:\n",
    "        new_movie_info[movie['movie_name']] = {'start_date':movie['start_date'],'end_date':movie['end_date']}\n",
    "                    \n",
    "    return temp,new_movie_info"
   ]
  },
  {
   "cell_type": "code",
   "execution_count": 354,
   "id": "d020969f",
   "metadata": {},
   "outputs": [],
   "source": [
    "temp,new_movie_info = ret_movie_list(new)"
   ]
  },
  {
   "cell_type": "code",
   "execution_count": 360,
   "id": "3e482233",
   "metadata": {},
   "outputs": [
    {
     "data": {
      "text/plain": [
       "[{'movie_name': 'Bala',\n",
       "  'start_date': '08 jan',\n",
       "  'start_month': 1,\n",
       "  'end_date': '28 jan'},\n",
       " {'movie_name': 'Rock',\n",
       "  'start_date': '20 jan',\n",
       "  'start_month': 1,\n",
       "  'end_date': '30 jan'},\n",
       " {'movie_name': 'PolicyMaker',\n",
       "  'start_date': '29 jan',\n",
       "  'start_month': 1,\n",
       "  'end_date': '16 feb'},\n",
       " {'movie_name': 'Brave',\n",
       "  'start_date': '02 feb',\n",
       "  'start_month': 2,\n",
       "  'end_date': '14 feb'},\n",
       " {'movie_name': 'Race',\n",
       "  'start_date': '15 feb',\n",
       "  'start_month': 2,\n",
       "  'end_date': '28 feb'},\n",
       " {'movie_name': 'Dhoom',\n",
       "  'start_date': '25 mar',\n",
       "  'start_month': 3,\n",
       "  'end_date': '18 apr'},\n",
       " {'movie_name': 'King',\n",
       "  'start_date': '29 apr',\n",
       "  'start_month': 4,\n",
       "  'end_date': '10 jun'},\n",
       " {'movie_name': 'Run',\n",
       "  'start_date': '09 may',\n",
       "  'start_month': 5,\n",
       "  'end_date': '2 jun'}]"
      ]
     },
     "execution_count": 360,
     "metadata": {},
     "output_type": "execute_result"
    }
   ],
   "source": [
    "new"
   ]
  },
  {
   "cell_type": "code",
   "execution_count": 356,
   "id": "f8d94983",
   "metadata": {},
   "outputs": [
    {
     "name": "stdout",
     "output_type": "stream",
     "text": [
      "{'Bala': ['PolicyMaker', 'Brave', 'Race', 'Dhoom', 'King', 'Run'], 'Rock': ['Brave', 'Race', 'Dhoom', 'King', 'Run'], 'PolicyMaker': ['Dhoom', 'King', 'Run'], 'Brave': ['Race', 'Dhoom', 'King', 'Run'], 'Race': ['Dhoom', 'King', 'Run'], 'Dhoom': ['King', 'Run']} \n",
      "\n",
      "{'Bala': {'start_date': '08 jan', 'end_date': '28 jan'}, 'Rock': {'start_date': '20 jan', 'end_date': '30 jan'}, 'PolicyMaker': {'start_date': '29 jan', 'end_date': '16 feb'}, 'Brave': {'start_date': '02 feb', 'end_date': '14 feb'}, 'Race': {'start_date': '15 feb', 'end_date': '28 feb'}, 'Dhoom': {'start_date': '25 mar', 'end_date': '18 apr'}, 'King': {'start_date': '29 apr', 'end_date': '10 jun'}, 'Run': {'start_date': '09 may', 'end_date': '2 jun'}}\n"
     ]
    }
   ],
   "source": [
    "print(temp,\"\\n\")\n",
    "print(new_movie_info)"
   ]
  },
  {
   "cell_type": "code",
   "execution_count": 374,
   "id": "80a8c896",
   "metadata": {},
   "outputs": [],
   "source": [
    "def get_sequence(temp,new_movie_info):\n",
    "    temp2 = {}\n",
    "    \n",
    "    length = 0\n",
    "    li = []\n",
    "    main_seq = []\n",
    "    \n",
    "    for key in temp:\n",
    "        for i in range(0,len(temp[key])-1):\n",
    "\n",
    "            # month match.......................\n",
    "            if new_movie_info[temp[key][i]]['start_date'].split()[1] == new_movie_info[temp[key][i+1]]['start_date'].split()[1] and new_movie_info[temp[key][i]]['end_date'].split()[1] == new_movie_info[temp[key][i+1]]['end_date'].split()[1]:\n",
    "                #print(key,new_movie_info[temp[key][i]],new_movie_info[temp[key][i+1]],\"month match..................\")\n",
    "\n",
    "                if ( int(new_movie_info[temp[key][i]]['start_date'].split()[0]) > int(new_movie_info[temp[key][i+1]]['start_date'].split()[0]) ):\n",
    "                    #print(key,new_movie_info[temp[key][i]],new_movie_info[temp[key][i+1]],\"i movie start after j movie..............Done\")\n",
    "                    \n",
    "                    if key not in temp2:\n",
    "                        temp2[key] = [temp[key][i],temp[key][i+1]]\n",
    "                    else:\n",
    "                        #temp2[key].append(temp[key][i],temp[key][i+1])\n",
    "                        temp2[key].append(temp[key][i])\n",
    "                        temp2[key].append(temp[key][i+1])\n",
    "                        \n",
    "                elif ( int(new_movie_info[temp[key][i]]['end_date'].split()[0]) < int(new_movie_info[temp[key][i+1]]['start_date'].split()[0]) ):\n",
    "                    #print(key,new_movie_info[temp[key][i]],new_movie_info[temp[key][i+1]],\"i movie end before j movie..................Done\")\n",
    "                    \n",
    "                    if key not in temp2:\n",
    "                        temp2[key] = [temp[key][i],temp[key][i+1]]\n",
    "                    else:\n",
    "                        #temp2[key].append(temp[key][i],temp[key][i+1])\n",
    "                        temp2[key].append(temp[key][i])\n",
    "                        temp2[key].append(temp[key][i+1])\n",
    "                else:\n",
    "                    pass\n",
    "                    #print(key,new_movie_info[temp[key][i]],new_movie_info[temp[key][i+1]],\"i and j movie overlap each other\")\n",
    "\n",
    "            # only start month match , end month not match\n",
    "            elif new_movie_info[temp[key][i]]['start_date'].split()[1] == new_movie_info[temp[key][i+1]]['start_date'].split()[1] and new_movie_info[temp[key][i]]['end_date'].split()[1] != new_movie_info[temp[key][i+1]]['end_date'].split()[1]:\n",
    "                #print(key,new_movie_info[temp[key][i]],new_movie_info[temp[key][i+1]],\"start match end not match\")\n",
    "\n",
    "                if ( int(new_movie_info[temp[key][i]]['end_date'].split()[0]) < int(new_movie_info[temp[key][i+1]]['start_date'].split()[0]) ):\n",
    "                    #print(key,new_movie_info[temp[key][i]],new_movie_info[temp[key][i+1]],\"i movie finish befor j movie.....DOne\")\n",
    "                    \n",
    "                    if key not in temp2:\n",
    "                        temp2[key] = [temp[key][i],temp[key][i+1]]\n",
    "                    else:\n",
    "                        #temp2[key].append(temp[key][i],temp[key][i+1])  \n",
    "                        temp2[key].append(temp[key][i])\n",
    "                        temp2[key].append(temp[key][i+1])\n",
    "                else:\n",
    "                    pass\n",
    "                    #print(key,new_movie_info[temp[key][i]],new_movie_info[temp[key][i+1]],\"i and j movie overlap each other\")\n",
    "\n",
    "            # no start end month matches\n",
    "            elif new_movie_info[temp[key][i]]['start_date'].split()[1] != new_movie_info[temp[key][i+1]]['start_date'].split()[1] and new_movie_info[temp[key][i]]['end_date'].split()[1] != new_movie_info[temp[key][i+1]]['end_date'].split()[1]:\n",
    "                #print(key,new_movie_info[temp[key][i]],new_movie_info[temp[key][i+1]],\"no month matches...........\")\n",
    "                \n",
    "                if key not in temp2:\n",
    "                    temp2[key] = [temp[key][i],temp[key][i+1]]\n",
    "                else:\n",
    "                    #temp2[key].append(temp[key][i],temp[key][i+1])\n",
    "                    temp2[key].append(temp[key][i])\n",
    "                    temp2[key].append(temp[key][i+1])\n",
    "    \n",
    "    \n",
    "    # return proper sequence\n",
    "\n",
    "    for key in temp2:\n",
    "        if length < len(temp2[key]):\n",
    "            length = len(temp2[key])\n",
    "            li.append(key)\n",
    "            main_seq.append(key)\n",
    "    for movi in temp2[li[-1]]:\n",
    "        main_seq.append(movi)\n",
    "    \n",
    "    return temp2,set(main_seq)\n"
   ]
  },
  {
   "cell_type": "code",
   "execution_count": 375,
   "id": "0a87b671",
   "metadata": {},
   "outputs": [
    {
     "data": {
      "text/plain": [
       "{'Bala', 'Brave', 'Dhoom', 'King', 'Race'}"
      ]
     },
     "execution_count": 375,
     "metadata": {},
     "output_type": "execute_result"
    }
   ],
   "source": [
    "temp2,main_seq = get_sequence(temp,new_movie_info)\n",
    "main_seq"
   ]
  },
  {
   "cell_type": "markdown",
   "id": "20596ac2",
   "metadata": {},
   "source": [
    "# LEts do\n",
    "- changing movie info to new movie format"
   ]
  },
  {
   "cell_type": "code",
   "execution_count": 327,
   "id": "cc66f46d",
   "metadata": {},
   "outputs": [
    {
     "data": {
      "text/plain": [
       "{'Dhoom': ['King', 'Run', 'Bala', 'Rock', 'PolicyMaker', 'Brave', 'Race'],\n",
       " 'King': ['Bala', 'Rock', 'PolicyMaker', 'Brave', 'Race'],\n",
       " 'Run': ['Bala', 'Rock', 'PolicyMaker', 'Brave', 'Race'],\n",
       " 'Bala': ['PolicyMaker', 'Brave', 'Race'],\n",
       " 'Rock': ['Brave', 'Race'],\n",
       " 'Brave': ['Race']}"
      ]
     },
     "execution_count": 327,
     "metadata": {},
     "output_type": "execute_result"
    }
   ],
   "source": [
    "temp"
   ]
  },
  {
   "cell_type": "code",
   "execution_count": 328,
   "id": "deda293c",
   "metadata": {},
   "outputs": [
    {
     "data": {
      "text/plain": [
       "[{'movie_name': 'Dhoom', 'start_date': '25 mar', 'end_date': '18 apr'},\n",
       " {'movie_name': 'King', 'start_date': '29 apr', 'end_date': '10 jun'},\n",
       " {'movie_name': 'Run', 'start_date': '09 may', 'end_date': '20 may'},\n",
       " {'movie_name': 'Bala', 'start_date': '08 jan', 'end_date': '28 jan'},\n",
       " {'movie_name': 'Rock', 'start_date': '20 jan', 'end_date': '30 jan'},\n",
       " {'movie_name': 'PolicyMaker', 'start_date': '29 jan', 'end_date': '16 feb'},\n",
       " {'movie_name': 'Brave', 'start_date': '02 feb', 'end_date': '14 feb'},\n",
       " {'movie_name': 'Race', 'start_date': '15 feb', 'end_date': '28 feb'}]"
      ]
     },
     "execution_count": 328,
     "metadata": {},
     "output_type": "execute_result"
    }
   ],
   "source": [
    "movie_info3 = [{'movie_name': 'Dhoom', 'start_date': '25 mar','end_date': '18 apr'},\n",
    "                {'movie_name': 'King', 'start_date': '29 apr', 'end_date': '10 jun'},\n",
    "               {'movie_name': 'Run', 'start_date': '09 may', 'end_date': '20 may'},\n",
    "                {'movie_name': 'Bala', 'start_date': '08 jan','end_date': '28 jan'},\n",
    "                {'movie_name': 'Rock', 'start_date': '20 jan', 'end_date': '30 jan'},\n",
    "                {'movie_name': 'PolicyMaker', 'start_date': '29 jan', 'end_date': '16 feb'},\n",
    "                {'movie_name': 'Brave', 'start_date': '02 feb',  'end_date': '14 feb'},\n",
    "                {'movie_name': 'Race', 'start_date': '15 feb',  'end_date': '28 feb'},\n",
    "                ]\n",
    "movie_info3"
   ]
  },
  {
   "cell_type": "code",
   "execution_count": 329,
   "id": "4cdf659d",
   "metadata": {},
   "outputs": [
    {
     "data": {
      "text/plain": [
       "[{'movie_name': 'Bala', 'start_date': '08 jan', 'end_date': '28 jan'},\n",
       " {'movie_name': 'Rock', 'start_date': '20 jan', 'end_date': '30 jan'},\n",
       " {'movie_name': 'PolicyMaker', 'start_date': '29 jan', 'end_date': '16 feb'},\n",
       " {'movie_name': 'Brave', 'start_date': '02 feb', 'end_date': '14 feb'},\n",
       " {'movie_name': 'Race', 'start_date': '15 feb', 'end_date': '28 feb'},\n",
       " {'movie_name': 'Dhoom', 'start_date': '25 feb', 'end_date': '18 mar'},\n",
       " {'movie_name': 'King', 'start_date': '29 feb', 'end_date': '10 mar'}]"
      ]
     },
     "execution_count": 329,
     "metadata": {},
     "output_type": "execute_result"
    }
   ],
   "source": [
    "movie_info"
   ]
  },
  {
   "cell_type": "code",
   "execution_count": 330,
   "id": "f321318e",
   "metadata": {},
   "outputs": [],
   "source": [
    "def get_indexed_dict(movie_info):\n",
    "    new = []\n",
    "    months = {'jan':1,'feb':2,'mar':3,'apr':4,'may':5,'jun':6}\n",
    "    for i in range(len(movie_info)):\n",
    "        \n",
    "        new.append({ 'movie_name': movie_info[i]['movie_name'],\n",
    "                    'start_date': movie_info[i]['start_date'],\n",
    "                    'start_month': int(months[movie_info[i]['start_date'].split()[1]]),\n",
    "                    'end_date': movie_info[i]['end_date']\n",
    "                   })\n",
    "    \n",
    "    # soting by month\n",
    "    newlist = sorted(new, key=lambda d: d['start_month'])\n",
    "    return newlist"
   ]
  },
  {
   "cell_type": "code",
   "execution_count": 331,
   "id": "e2a7b85d",
   "metadata": {},
   "outputs": [
    {
     "data": {
      "text/plain": [
       "[{'movie_name': 'Bala',\n",
       "  'start_date': '08 jan',\n",
       "  'start_month': 1,\n",
       "  'end_date': '28 jan'},\n",
       " {'movie_name': 'Rock',\n",
       "  'start_date': '20 jan',\n",
       "  'start_month': 1,\n",
       "  'end_date': '30 jan'},\n",
       " {'movie_name': 'PolicyMaker',\n",
       "  'start_date': '29 jan',\n",
       "  'start_month': 1,\n",
       "  'end_date': '16 feb'},\n",
       " {'movie_name': 'Brave',\n",
       "  'start_date': '02 feb',\n",
       "  'start_month': 2,\n",
       "  'end_date': '14 feb'},\n",
       " {'movie_name': 'Race',\n",
       "  'start_date': '15 feb',\n",
       "  'start_month': 2,\n",
       "  'end_date': '28 feb'},\n",
       " {'movie_name': 'Dhoom',\n",
       "  'start_date': '25 mar',\n",
       "  'start_month': 3,\n",
       "  'end_date': '18 apr'},\n",
       " {'movie_name': 'King',\n",
       "  'start_date': '29 apr',\n",
       "  'start_month': 4,\n",
       "  'end_date': '10 jun'},\n",
       " {'movie_name': 'Run',\n",
       "  'start_date': '09 may',\n",
       "  'start_month': 5,\n",
       "  'end_date': '20 may'}]"
      ]
     },
     "execution_count": 331,
     "metadata": {},
     "output_type": "execute_result"
    }
   ],
   "source": [
    "new = get_indexed_dict(movie_info3)\n",
    "new"
   ]
  },
  {
   "cell_type": "code",
   "execution_count": null,
   "id": "7c8b056e",
   "metadata": {},
   "outputs": [],
   "source": []
  },
  {
   "cell_type": "code",
   "execution_count": null,
   "id": "96e41973",
   "metadata": {},
   "outputs": [],
   "source": []
  },
  {
   "cell_type": "code",
   "execution_count": null,
   "id": "6bb56258",
   "metadata": {},
   "outputs": [],
   "source": []
  },
  {
   "cell_type": "code",
   "execution_count": null,
   "id": "55b230ef",
   "metadata": {},
   "outputs": [],
   "source": []
  },
  {
   "cell_type": "code",
   "execution_count": null,
   "id": "97d65fc2",
   "metadata": {},
   "outputs": [],
   "source": []
  }
 ],
 "metadata": {
  "kernelspec": {
   "display_name": "Python 3",
   "language": "python",
   "name": "python3"
  },
  "language_info": {
   "codemirror_mode": {
    "name": "ipython",
    "version": 3
   },
   "file_extension": ".py",
   "mimetype": "text/x-python",
   "name": "python",
   "nbconvert_exporter": "python",
   "pygments_lexer": "ipython3",
   "version": "3.8.8"
  }
 },
 "nbformat": 4,
 "nbformat_minor": 5
}
