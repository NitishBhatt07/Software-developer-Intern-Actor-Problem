{
 "cells": [
  {
   "cell_type": "markdown",
   "id": "d0deb2d3",
   "metadata": {},
   "source": [
    "### Aim:\n",
    "    - Actor wants to make max money\n",
    "\n",
    "### Conditions:\n",
    "    - fixed ammount of money for every movie: 1 crore\n",
    "    - can not do 2 movies together \n",
    "    - he can work all the days of year\n",
    "\n",
    "### Program accepts:\n",
    "    - accept the movie info and return max ammount he can get along with movies list\n",
    "    - movie info includes movie name ,start date, end date"
   ]
  },
  {
   "cell_type": "code",
   "execution_count": null,
   "id": "0647c6b2",
   "metadata": {},
   "outputs": [],
   "source": [
    "movie_info[0]['start_date'],movie_info[0]['end_date']"
   ]
  },
  {
   "cell_type": "code",
   "execution_count": null,
   "id": "4a78fa9f",
   "metadata": {},
   "outputs": [],
   "source": [
    "movie_info[1]['start_date'],movie_info[1]['end_date']"
   ]
  },
  {
   "cell_type": "code",
   "execution_count": null,
   "id": "c5a997e6",
   "metadata": {},
   "outputs": [],
   "source": [
    "movie_info[2]['start_date'],movie_info[2]['end_date']"
   ]
  },
  {
   "cell_type": "code",
   "execution_count": null,
   "id": "d53244a2",
   "metadata": {},
   "outputs": [],
   "source": [
    "movie_info[0]['start_date'].split()[0], movie_info[0]['end_date'].split()[0]"
   ]
  },
  {
   "cell_type": "code",
   "execution_count": null,
   "id": "1dfffbf4",
   "metadata": {},
   "outputs": [],
   "source": [
    "movies = []\n",
    "for i in range(len(movie_info)):\n",
    "    print(movie_info[i]['start_date'].split()[0],movie_info[i]['end_date'].split()[0])\n",
    "    "
   ]
  },
  {
   "cell_type": "raw",
   "id": "ed21397c",
   "metadata": {},
   "source": [
    "4 conditon\n",
    "\n",
    "entred srt org start same and entred end org end same \n",
    "    - org jan jan , entred  jan jan\n",
    "    - then we can check the date ,\n",
    "    - if entre end date < srt date = +1\n",
    "    - if end date < entred srt date = +1\n",
    "    \n",
    "entred start org start same but entred end org end diff\n",
    "    - org jan feb , entred jan march\n",
    "    -  no movie can slect\n",
    "    \n",
    "entred end org end same but entred srt org srt diff\n",
    "    - org feb march , entred jan march\n",
    "    - no movie can select\n",
    "    \n",
    "entred srat org srt diff and entred end org end diff\n",
    "    - org jan feb , entred march april\n",
    "    - +1\n",
    "\n",
    "    \n",
    "start_date.split()[1] == movie_info[i]['start_date'].split()[1] and end_date.split()[1] == movie_info[i]['end'].split()[1]"
   ]
  },
  {
   "cell_type": "code",
   "execution_count": null,
   "id": "fc8eda3a",
   "metadata": {},
   "outputs": [],
   "source": []
  },
  {
   "cell_type": "code",
   "execution_count": null,
   "id": "be395b50",
   "metadata": {},
   "outputs": [],
   "source": [
    "if start_date.split()[1] == movie_info[i]['start_date'].split()[1] and end_date.split()[1] == movie_info[i]['end_date'].split()[1] :\n",
    "            #print(start_date.split()[1], movie_info[i]['start_date'].split()[1])\n",
    "            #print(end_date.split()[1] , movie_info[i]['end_date'].split()[1])\n",
    "            if int(end_date.split()[0]) < int(movie_info[i]['start_date'].split()[0]):\n",
    "                print('entred movie finish befor then movi start',movie_info[i]['movie_name'])\n",
    "                m+1\n",
    "            elif int(start_date.split()[0]) > int(movie_info[i]['end_date'].split()[0]):\n",
    "                print('entred movie start after then movie end',movie_info[i]['movie_name'])\n",
    "                m+=1\n",
    "            #print('both match',movie_info[i]['movie_name'])\n",
    "        elif start_date.split()[1] != movie_info[i]['start_date'].split()[1] and end_date.split()[1] != movie_info[i]['end_date'].split()[1] :\n",
    "            print(\"complete dismatch\",movie_info[i]['movie_name'])\n",
    "        else:\n",
    "            print(\"something not matched\")\n",
    "            m+=1"
   ]
  },
  {
   "cell_type": "code",
   "execution_count": null,
   "id": "9dd44b35",
   "metadata": {},
   "outputs": [],
   "source": [
    "sequence"
   ]
  },
  {
   "cell_type": "code",
   "execution_count": null,
   "id": "42eba3f0",
   "metadata": {},
   "outputs": [],
   "source": []
  },
  {
   "cell_type": "code",
   "execution_count": null,
   "id": "edd2d3f3",
   "metadata": {},
   "outputs": [],
   "source": []
  },
  {
   "cell_type": "code",
   "execution_count": null,
   "id": "766ab86b",
   "metadata": {},
   "outputs": [],
   "source": []
  },
  {
   "cell_type": "code",
   "execution_count": null,
   "id": "7b8572f0",
   "metadata": {},
   "outputs": [],
   "source": [
    "def get_max(movie_name,start_date,end_date):\n",
    "    m = 0\n",
    "    s_date, s_month = start_date.split()[0],start_date.split()[1]\n",
    "    e_date, e_month = end_date.split()[0],end_date.split()[1]\n",
    "    print(s_date,s_month)\n",
    "    print(e_date, e_month)\n",
    "    print(\".........................\")\n",
    "    for i in range(len(movie_info)):\n",
    "        #print(movie_info[i]['start_date'].split()[0],movie_info[i]['start_date'].split()[1])\n",
    "        if start_date.split()[1] == movie_info[i]['start_date'].split()[1] and end_date.split()[1] == movie_info[i]['end_date'].split()[1] :\n",
    "            #print(start_date.split()[1], movie_info[i]['start_date'].split()[1])\n",
    "            #print(end_date.split()[1] , movie_info[i]['end_date'].split()[1])\n",
    "            if int(end_date.split()[0]) < int(movie_info[i]['start_date'].split()[0]):\n",
    "                print('entred movie finish befor then movi start',movie_info[i]['movie_name'])\n",
    "                m+1\n",
    "            elif int(start_date.split()[0]) > int(movie_info[i]['end_date'].split()[0]):\n",
    "                print('entred movie start after then movie end',movie_info[i]['movie_name'])\n",
    "                m+=1\n",
    "            #print('both match',movie_info[i]['movie_name'])\n",
    "        elif start_date.split()[1] != movie_info[i]['start_date'].split()[1] and end_date.split()[1] != movie_info[i]['end_date'].split()[1] :\n",
    "            print(\"complete dismatch\",movie_info[i]['movie_name'])\n",
    "        else:\n",
    "            print(\"something not matched\")\n",
    "            m+=1\n",
    "            \n",
    "    return m"
   ]
  },
  {
   "cell_type": "code",
   "execution_count": null,
   "id": "3d73cf97",
   "metadata": {},
   "outputs": [],
   "source": [
    "print(get_max(\"Bala\",\"06 jan\",'14 jan'))"
   ]
  },
  {
   "cell_type": "code",
   "execution_count": null,
   "id": "b88110ba",
   "metadata": {},
   "outputs": [],
   "source": []
  },
  {
   "cell_type": "code",
   "execution_count": null,
   "id": "0fe2d4ea",
   "metadata": {},
   "outputs": [],
   "source": [
    ",movies[i]['movie_name'],movies[j]['movie_name']"
   ]
  },
  {
   "cell_type": "code",
   "execution_count": null,
   "id": "0b825218",
   "metadata": {},
   "outputs": [],
   "source": [
    "# WE PASS A LISTS of movies and then return a sequence of movies and earning\n",
    "sequence = []\n",
    "def return_movie_list(movies):\n",
    "    for i in range(len(movies)):\n",
    "        for j in range(len(movies)):\n",
    "            #print(i,j,movies[i],movies[j])\n",
    "            if movies[i]['start_date'].split()[1] == movies[j]['start_date'].split()[1] and movies[i]['end_date'].split()[1] == movies[j]['end_date'].split()[1]:\n",
    "                print(\"proper match: \",movies[i]['movie_name'],movies[j]\n",
    "                      ['movie_name'])\n",
    "                if (int(movies[i]['end_date'].split()[0]) < int(movies[j]['start_date'].split()[0])) or (int(movies[i]['start_date'].split()[0]) > int(movies[j]['end_date'].split()[0])) :\n",
    "                    print(\"proper match with finsh after or befor: \",movies[i]['movie_name'],movies[j]['movie_name'])\n",
    "                    sequence.append(movies[i]['movie_name'] +\"-->\"+movies[j]['movie_name'])\n",
    "            elif movies[i]['start_date'].split()[1] != movies[j]['start_date'].split()[1] and movies[i]['end_date'].split()[1] != movies[j]['end_date'].split()[1]:\n",
    "                print(\"proper dismatch: \",movies[i]['movie_name'],movies[j]['movie_name'])\n",
    "            else:\n",
    "                print(\"not matched: \",movies[i]['movie_name'],movies[j]['movie_name'])\n",
    "                sequence.append(movies[i]['movie_name'] +\"-->\"+movies[j]['movie_name'])\n",
    "    \n",
    "return_movie_list(movie_info)\n",
    "print(sequence)"
   ]
  },
  {
   "cell_type": "code",
   "execution_count": null,
   "id": "c2f63774",
   "metadata": {},
   "outputs": [],
   "source": []
  },
  {
   "cell_type": "code",
   "execution_count": null,
   "id": "8fd3c582",
   "metadata": {},
   "outputs": [],
   "source": []
  },
  {
   "cell_type": "code",
   "execution_count": null,
   "id": "e4787803",
   "metadata": {},
   "outputs": [],
   "source": [
    "new = []\n",
    "\n",
    "months = {'jan':0,'feb':1,'mar':2,'apr':3,'may':4,'jun':5}\n",
    "\n",
    "for i in range(len(movie_info)):\n",
    "    \n",
    "    new.append({movie_info[i]['movie_name']:[int(movie_info[i]['start_date'].split()[0]),\n",
    "                                            months[movie_info[i]['start_date'].split()[1]],\n",
    "                                            int(movie_info[i]['end_date'].split()[0]),\n",
    "                                            months[movie_info[i]['end_date'].split()[1]] ]\n",
    "               })\n",
    "    '''\n",
    "    new['name'] = movie_info[i]['movie_name']\n",
    "    new['start_date'] = movie_info[i]['start_date'].split()[0]\n",
    "    new['end_date'] = movie_info[i]['start_date'].split()[0]\n",
    "    \n",
    "    new['start_month'] = months[movie_info[i]['start_date'].split()[1]]\n",
    "    new['end_month'] = months[movie_info[i]['end_date'].split()[1]]\n",
    "    '''"
   ]
  },
  {
   "cell_type": "code",
   "execution_count": 34,
   "id": "3b5c92af",
   "metadata": {},
   "outputs": [],
   "source": [
    "movie_info = [ #{'movie_name':'Krish',\"start_date\":'18 mar',\"end_date\":'28 apr'},\n",
    "                {'movie_name':'Bala',\"start_date\":'08 jan',\"end_date\":'28 jan'},\n",
    "               {'movie_name':'Rock',\"start_date\":'20 jan',\"end_date\":'30 jan'},\n",
    "               {'movie_name':'PolicyMaker',\"start_date\":'29 jan',\"end_date\":'16 feb'},\n",
    "               {'movie_name':'Brave',\"start_date\":'02 feb',\"end_date\":'14 feb'},\n",
    "               {'movie_name':'Race',\"start_date\":'15 feb',\"end_date\":'28 feb'},\n",
    "            ]"
   ]
  },
  {
   "cell_type": "markdown",
   "id": "d96cccec",
   "metadata": {},
   "source": [
    "### Main"
   ]
  },
  {
   "cell_type": "code",
   "execution_count": 38,
   "id": "1ccda91c",
   "metadata": {},
   "outputs": [
    {
     "name": "stdout",
     "output_type": "stream",
     "text": [
      "Bala PolicyMaker --->  i movie finish befor j movie .............Done\n",
      "Bala Brave --> no month matches ..........................Done\n",
      "Bala Race --> no month matches ..........................Done\n",
      "\n",
      "\n",
      "\n",
      "Rock Brave --> no month matches ..........................Done\n",
      "Rock Race --> no month matches ..........................Done\n",
      "\n",
      "\n",
      "\n",
      "\n",
      "\n",
      "\n",
      "Brave Race --->  i movie end before j movie ..............Done\n",
      "\n",
      "\n",
      "\n",
      "\n",
      "\n",
      "\n",
      "{'Bala': ['PolicyMaker', 'Brave', 'Race'], 'Rock': ['Brave', 'Race'], 'Brave': ['Race']}\n",
      "\n",
      "\n",
      "[{'Bala': 'PolicyMaker'}, {'Bala': 'Brave'}, {'Bala': 'Race'}, {'Rock': 'Brave'}, {'Rock': 'Race'}, {'Brave': 'Race'}]\n"
     ]
    }
   ],
   "source": [
    "seq = []\n",
    "temp = {}\n",
    "\n",
    "def ret_movie_list(movies):\n",
    "    for i in range(len(movies)):\n",
    "        for j in range(i+1,len(movies)):\n",
    "            \n",
    "            # month match.......................\n",
    "            if movies[i]['start_date'].split()[1] == movies[j]['start_date'].split()[1] and movies[i]['end_date'].split()[1] == movies[j]['end_date'].split()[1]:\n",
    "                #print(movies[i]['movie_name'],movies[j]['movie_name']+\" ---> \"+\"month matched\")\n",
    "                \n",
    "                if ( int(movies[i]['start_date'].split()[0]) > int(movies[j]['start_date'].split()[0]) ):\n",
    "                    print(movies[i]['movie_name'],movies[j]['movie_name']+\" ---> \"+\" i movie start after j movie\", \"..............Done\")\n",
    "                    seq.append({movies[i]['movie_name']:movies[j]['movie_name']})\n",
    "                    \n",
    "                    if movies[i]['movie_name'] not in temp:\n",
    "                        temp[movies[i]['movie_name']] = [movies[j]['movie_name']]\n",
    "                    else:\n",
    "                        temp[movies[i]['movie_name']].append(movies[j]['movie_name'])\n",
    "                    \n",
    "                    \n",
    "                elif ( int(movies[i]['end_date'].split()[0]) < int(movies[j]['start_date'].split()[0]) ):\n",
    "                    print(movies[i]['movie_name'],movies[j]['movie_name']+\" ---> \"+\" i movie end before j movie\", \"..............Done\")\n",
    "                    seq.append({movies[i]['movie_name']:movies[j]['movie_name']})  \n",
    "                    \n",
    "                    if movies[i]['movie_name'] not in temp:\n",
    "                        temp[movies[i]['movie_name']] = [movies[j]['movie_name']]\n",
    "                    else:\n",
    "                        temp[movies[i]['movie_name']].append(movies[j]['movie_name'])\n",
    "                        \n",
    "                else:\n",
    "                    pass\n",
    "                    #print(movies[i]['movie_name'],movies[j]['movie_name']+\" ---> \"+\" i and j movie overlap each other\")\n",
    "            \n",
    "            # only start month match , end month not match\n",
    "            elif movies[i]['start_date'].split()[1] == movies[j]['start_date'].split()[1] and movies[i]['end_date'].split()[1] != movies[j]['end_date'].split()[1]:\n",
    "                #print(movies[i]['movie_name'],movies[j]['movie_name']+\" ---> \",\"start match end not match\")\n",
    "                if ( int(movies[i]['end_date'].split()[0]) < int(movies[j]['start_date'].split()[0]) ):\n",
    "                    print(movies[i]['movie_name'],movies[j]['movie_name']+\" ---> \"+\" i movie finish befor j movie\", \".............Done\")\n",
    "                    seq.append({movies[i]['movie_name']:movies[j]['movie_name']})\n",
    "                    \n",
    "                    if movies[i]['movie_name'] not in temp:\n",
    "                        temp[movies[i]['movie_name']] = [movies[j]['movie_name']]\n",
    "                    else:\n",
    "                        temp[movies[i]['movie_name']].append(movies[j]['movie_name'])\n",
    "\n",
    "                else:\n",
    "                    pass\n",
    "                    #print(movies[i]['movie_name'],movies[j]['movie_name']+\" ---> \"+\" i and j movie overlap each other\")\n",
    "            \n",
    "            # no start end month matches\n",
    "            elif movies[i]['start_date'].split()[1] != movies[j]['start_date'].split()[1] and movies[i]['end_date'].split()[1] != movies[j]['end_date'].split()[1]:\n",
    "                print(movies[i]['movie_name'],movies[j]['movie_name']+\" --> \"+\"no month matches\", \"..........................Done\")\n",
    "                seq.append({movies[i]['movie_name']:movies[j]['movie_name']})\n",
    "                \n",
    "                if movies[i]['movie_name'] not in temp:\n",
    "                        temp[movies[i]['movie_name']] = [movies[j]['movie_name']]\n",
    "                else:\n",
    "                    temp[movies[i]['movie_name']].append(movies[j]['movie_name'])\n",
    "                \n",
    "        #seq.append((\"\\n\"))\n",
    "        print(\"\\n\\n\")\n",
    "\n",
    "        \n",
    "ret_movie_list(movie_info)\n",
    "print(temp)\n",
    "print('\\n')\n",
    "print(seq)"
   ]
  },
  {
   "cell_type": "code",
   "execution_count": 43,
   "id": "d1091f01",
   "metadata": {},
   "outputs": [
    {
     "data": {
      "text/plain": [
       "{'Bala': ['PolicyMaker', 'Brave', 'Race'],\n",
       " 'Rock': ['Brave', 'Race'],\n",
       " 'Brave': ['Race']}"
      ]
     },
     "execution_count": 43,
     "metadata": {},
     "output_type": "execute_result"
    }
   ],
   "source": [
    "temp"
   ]
  },
  {
   "cell_type": "code",
   "execution_count": 65,
   "id": "680b2b74",
   "metadata": {},
   "outputs": [
    {
     "data": {
      "text/plain": [
       "[{'movie_name': 'Bala', 'start_date': '08 jan', 'end_date': '28 jan'},\n",
       " {'movie_name': 'Rock', 'start_date': '20 jan', 'end_date': '30 jan'},\n",
       " {'movie_name': 'PolicyMaker', 'start_date': '29 jan', 'end_date': '16 feb'},\n",
       " {'movie_name': 'Brave', 'start_date': '02 feb', 'end_date': '14 feb'},\n",
       " {'movie_name': 'Race', 'start_date': '15 feb', 'end_date': '28 feb'}]"
      ]
     },
     "execution_count": 65,
     "metadata": {},
     "output_type": "execute_result"
    }
   ],
   "source": [
    "movie_info"
   ]
  },
  {
   "cell_type": "code",
   "execution_count": 73,
   "id": "a46b8aa5",
   "metadata": {},
   "outputs": [],
   "source": [
    "new_movie_info = {} \n",
    "for movie in movie_info:\n",
    "    new_movie_info[movie['movie_name']] = {'start_date':movie['start_date'],'end_date':movie['end_date']}"
   ]
  },
  {
   "cell_type": "code",
   "execution_count": 77,
   "id": "510bddfb",
   "metadata": {},
   "outputs": [
    {
     "data": {
      "text/plain": [
       "{'Bala': {'start_date': '08 jan', 'end_date': '28 jan'},\n",
       " 'Rock': {'start_date': '20 jan', 'end_date': '30 jan'},\n",
       " 'PolicyMaker': {'start_date': '29 jan', 'end_date': '16 feb'},\n",
       " 'Brave': {'start_date': '02 feb', 'end_date': '14 feb'},\n",
       " 'Race': {'start_date': '15 feb', 'end_date': '28 feb'}}"
      ]
     },
     "execution_count": 77,
     "metadata": {},
     "output_type": "execute_result"
    }
   ],
   "source": [
    "new_movie_info"
   ]
  },
  {
   "cell_type": "code",
   "execution_count": 91,
   "id": "f294eede",
   "metadata": {},
   "outputs": [
    {
     "data": {
      "text/plain": [
       "['PolicyMaker', 'Brave', 'Race']"
      ]
     },
     "execution_count": 91,
     "metadata": {},
     "output_type": "execute_result"
    }
   ],
   "source": [
    "temp['Bala']"
   ]
  },
  {
   "cell_type": "raw",
   "id": "4e8e7c73",
   "metadata": {},
   "source": [
    "for key in temp:\n",
    "    for i in range(0,len(temp[key])-1):\n",
    "        \n",
    "        #print(key,temp[key][i])\n",
    "        #k_st_date, k_ed_date = new_movie_info[key]['start_date'], new_movie_info[key]['end_date']\n",
    "        #a_st_date, a_ed_date = new_movie_info[temp[key][i]]['start_date'], new_movie_info[temp[key][i]]['end_date']\n",
    "        #print(key,st_date,ed_date)\n",
    "        #print(temp[key][i],a_st_date,a_ed_date)\n",
    "        \n",
    "        '''\n",
    "        if new_movie_info[temp[key][i]]['start_date'].split()[1] == new_movie_info[temp[key][i+1]]['start_date'].split()[1] and new_movie_info[temp[key][i]]['end_date'].split()[1] == new_movie_info[temp[key][i+1]]['end_date'].split()[1]:\n",
    "                #print(new_movie_info[temp[key][i]],new_movie_info[temp[key][i+1]]['movie_name']+\" ---> \"+\"month matched\")\n",
    "                print(new_movie_info[temp[key][i]]['start_date'].split()[1],new_movie_info[temp[key][i+1]]['start_date'].split()[1])\n",
    "                print(new_movie_info[temp[key][i]]['end_date'].split()[1],new_movie_info[temp[key][i+1]]['end_date'].split()[1])\n",
    "                print(\"month match..................\")\n",
    "                \n",
    "                if ( int(movies[i]['start_date'].split()[0]) > int(movies[j]['start_date'].split()[0]) ):\n",
    "                    print(movies[i]['movie_name'],movies[j]['movie_name']+\" ---> \"+\" i movie start after j movie\", \"..............Done\")\n",
    "                    seq.append({movies[i]['movie_name']:movies[j]['movie_name']})\n",
    "            '''    \n",
    "        # month match.......................\n",
    "        if new_movie_info[temp[key][i]]['start_date'].split()[1] == new_movie_info[temp[key][i+1]]['start_date'].split()[1] and new_movie_info[temp[key][i]]['end_date'].split()[1] == new_movie_info[temp[key][i+1]]['end_date'].split()[1]:\n",
    "            #print(movies[i]['movie_name'],movies[j]['movie_name']+\" ---> \"+\"month matched\")\n",
    "            print(new_movie_info[temp[key][i]]['start_date'].split()[1],new_movie_info[temp[key][i+1]]['start_date'].split()[1])\n",
    "            print(new_movie_info[temp[key][i]]['end_date'].split()[1],new_movie_info[temp[key][i+1]]['end_date'].split()[1])\n",
    "            print(\"month match..................\")\n",
    "\n",
    "            '''\n",
    "            if ( int(movies[i]['start_date'].split()[0]) > int(movies[j]['start_date'].split()[0]) ):\n",
    "                print(movies[i]['movie_name'],movies[j]['movie_name']+\" ---> \"+\" i movie start after j movie\", \"..............Done\")\n",
    "                seq.append({movies[i]['movie_name']:movies[j]['movie_name']})\n",
    "\n",
    "                if movies[i]['movie_name'] not in temp:\n",
    "                    temp[movies[i]['movie_name']] = [movies[j]['movie_name']]\n",
    "                else:\n",
    "                    temp[movies[i]['movie_name']].append(movies[j]['movie_name'])\n",
    "                '''\n",
    "\n",
    "        elif ( int(new_movie_info[temp[key][i]]['end_date'].split()[0]) < int(new_movie_info[temp[key][i+1]]['start_date'].split()[0]) ):\n",
    "            #print(movies[i]['movie_name'],movies[j]['movie_name']+\" ---> \"+\" i movie end before j movie\", \"..............Done\")\n",
    "            print(' movie end before j movie\", \"..............Done')\n",
    "\n",
    "            '''\n",
    "            seq.append({movies[i]['movie_name']:movies[j]['movie_name']})  \n",
    "            if movies[i]['movie_name'] not in temp:\n",
    "                temp[movies[i]['movie_name']] = [movies[j]['movie_name']]\n",
    "            else:\n",
    "                temp[movies[i]['movie_name']].append(movies[j]['movie_name'])\n",
    "                '''\n",
    "        else:\n",
    "            #pass\n",
    "            #print(movies[i]['movie_name'],movies[j]['movie_name']+\" ---> \"+\" i and j movie overlap each other\")\n",
    "            print('i and j movie overlap each other')\n",
    "            \n",
    "            \n",
    "\n",
    "        # only start month match , end month not match\n",
    "        elif new_movie_info[temp[key][i]]['start_date'].split()[1] == new_movie_info[temp[key][i+1]]['start_date'].split()[1] and new_movie_info[temp[key][i]]['end_date'].split()[1] != new_movie_info[temp[key][i+1]]['end_date'].split()[1]:\n",
    "            #print(movies[i]['movie_name'],movies[j]['movie_name']+\" ---> \",\"start match end not match\")\n",
    "            print(new_movie_info[temp[key][i]]['start_date'].split()[1], new_movie_info[temp[key][i+1]]['start_date'].split()[1])\n",
    "            print(new_movie_info[temp[key][i]]['end_date'].split()[1], new_movie_info[temp[key][i+1]]['end_date'].split()[1])\n",
    "            print(\"start match end not match\")\n",
    "            '''\n",
    "            if ( int(movies[i]['end_date'].split()[0]) < int(movies[j]['start_date'].split()[0]) ):\n",
    "                print(movies[i]['movie_name'],movies[j]['movie_name']+\" ---> \"+\" i movie finish befor j movie\", \".............Done\")\n",
    "                seq.append({movies[i]['movie_name']:movies[j]['movie_name']})\n",
    "\n",
    "                if movies[i]['movie_name'] not in temp:\n",
    "                    temp[movies[i]['movie_name']] = [movies[j]['movie_name']]\n",
    "                else:\n",
    "                    temp[movies[i]['movie_name']].append(movies[j]['movie_name'])\n",
    "                    '''\n",
    "        else:\n",
    "            pass\n",
    "            #print(movies[i]['movie_name'],movies[j]['movie_name']+\" ---> \"+\" i and j movie overlap each other\")\n",
    "            print('i and j movie overlap each other')\n",
    "\n",
    "        # no start end month matches\n",
    "        elif new_movie_info[temp[key][i]]['start_date'].split()[1] != new_movie_info[temp[key][i+1]]['start_date'].split()[1] and new_movie_info[temp[key][i]]['end_date'].split()[1] != new_movie_info[temp[key][i+1]]['end_date'].split()[1]:\n",
    "            #print(movies[i]['movie_name'],movies[j]['movie_name']+\" --> \"+\"no month matches\", \"..........................Done\")\n",
    "            print(new_movie_info[temp[key][i]]['start_date'].split()[1], new_movie_info[temp[key][i+1]]['start_date'].split()[1])\n",
    "            print(new_movie_info[temp[key][i]]['end_date'].split()[1], new_movie_info[temp[key][i+1]]['end_date'].split()[1])\n",
    "            print(\"no month matches\", \"..........................Done\")\n",
    "\n",
    "            '''\n",
    "            seq.append({movies[i]['movie_name']:movies[j]['movie_name']})\n",
    "\n",
    "            if movies[i]['movie_name'] not in temp:\n",
    "                    temp[movies[i]['movie_name']] = [movies[j]['movie_name']]\n",
    "            else:\n",
    "                temp[movies[i]['movie_name']].append(movies[j]['movie_name'])\n",
    "            '''\n",
    "\n",
    "        #seq.append((\"\\n\"))\n",
    "        print(\"\\n\\n\")\n",
    "        "
   ]
  },
  {
   "cell_type": "code",
   "execution_count": 134,
   "id": "9d5488a7",
   "metadata": {},
   "outputs": [
    {
     "name": "stdout",
     "output_type": "stream",
     "text": [
      "Bala {'start_date': '02 feb', 'end_date': '14 feb'} {'start_date': '15 feb', 'end_date': '28 feb'} month match..................\n",
      "Bala {'start_date': '02 feb', 'end_date': '14 feb'} {'start_date': '15 feb', 'end_date': '28 feb'} i movie end before j movie..................Done\n",
      "\n",
      "\n",
      "\n",
      "Rock {'start_date': '02 feb', 'end_date': '14 feb'} {'start_date': '15 feb', 'end_date': '28 feb'} month match..................\n",
      "Rock {'start_date': '02 feb', 'end_date': '14 feb'} {'start_date': '15 feb', 'end_date': '28 feb'} i movie end before j movie..................Done\n",
      "\n",
      "\n",
      "\n",
      "\n",
      "\n",
      "\n"
     ]
    }
   ],
   "source": [
    "perfect = []\n",
    "for key in temp:\n",
    "    for i in range(0,len(temp[key])-1):\n",
    "\n",
    "        # month match.......................\n",
    "        if new_movie_info[temp[key][i]]['start_date'].split()[1] == new_movie_info[temp[key][i+1]]['start_date'].split()[1] and new_movie_info[temp[key][i]]['end_date'].split()[1] == new_movie_info[temp[key][i+1]]['end_date'].split()[1]:\n",
    "            print(key,new_movie_info[temp[key][i]],new_movie_info[temp[key][i+1]],\"month match..................\")\n",
    "            \n",
    "            if ( int(new_movie_info[temp[key][i]]['start_date'].split()[0]) > int(new_movie_info[temp[key][i+1]]['start_date'].split()[0]) ):\n",
    "                print(key,new_movie_info[temp[key][i]],new_movie_info[temp[key][i+1]],\"i movie start after j movie..............Done\")\n",
    "                perfect.append({key:temp[key][i]+\" \"+temp[key][i+1]})\n",
    "                  \n",
    "            elif ( int(new_movie_info[temp[key][i]]['end_date'].split()[0]) < int(new_movie_info[temp[key][i+1]]['start_date'].split()[0]) ):\n",
    "                print(key,new_movie_info[temp[key][i]],new_movie_info[temp[key][i+1]],\"i movie end before j movie..................Done\")\n",
    "                perfect.append({key:temp[key][i]+\" \"+temp[key][i+1]})\n",
    "\n",
    "            else:\n",
    "                print(key,new_movie_info[temp[key][i]],new_movie_info[temp[key][i+1]],\"i and j movie overlap each other\")\n",
    "        \n",
    "        # only start month match , end month not match\n",
    "        elif new_movie_info[temp[key][i]]['start_date'].split()[1] == new_movie_info[temp[key][i+1]]['start_date'].split()[1] and new_movie_info[temp[key][i]]['end_date'].split()[1] != new_movie_info[temp[key][i+1]]['end_date'].split()[1]:\n",
    "            print(key,new_movie_info[temp[key][i]],new_movie_info[temp[key][i+1]],\"start match end not match\")\n",
    "            \n",
    "            if ( int(new_movie_info[temp[key][i]]['end_date'].split()[0]) < int(new_movie_info[temp[key][i+1]]['start_date'].split()[0]) ):\n",
    "                print(key,new_movie_info[temp[key][i]],new_movie_info[temp[key][i+1]],\"i movie finish befor j movie.....DOne\")\n",
    "                perfect.append({key:temp[key][i]+\" \"+temp[key][i+1]})\n",
    "            else:\n",
    "                print(key,new_movie_info[temp[key][i]],new_movie_info[temp[key][i+1]],\"i and j movie overlap each other\")\n",
    "\n",
    "\n",
    "        # no start end month matches\n",
    "        elif new_movie_info[temp[key][i]]['start_date'].split()[1] != new_movie_info[temp[key][i+1]]['start_date'].split()[1] and new_movie_info[temp[key][i]]['end_date'].split()[1] != new_movie_info[temp[key][i+1]]['end_date'].split()[1]:\n",
    "            print(key,new_movie_info[temp[key][i]],new_movie_info[temp[key][i+1]],\"no month matches...........\")\n",
    "            perfect.append({key:temp[key][i]+\" \"+temp[key][i+1]})\n",
    "\n",
    "    print(\"\\n\\n\")\n",
    "        "
   ]
  },
  {
   "cell_type": "code",
   "execution_count": 135,
   "id": "c5a5b379",
   "metadata": {},
   "outputs": [
    {
     "data": {
      "text/plain": [
       "[{'Bala': 'Brave Race'}, {'Rock': 'Brave Race'}]"
      ]
     },
     "execution_count": 135,
     "metadata": {},
     "output_type": "execute_result"
    }
   ],
   "source": [
    "perfect"
   ]
  },
  {
   "cell_type": "code",
   "execution_count": 136,
   "id": "7272e8d1",
   "metadata": {},
   "outputs": [
    {
     "data": {
      "text/plain": [
       "{'Bala': ['PolicyMaker', 'Brave', 'Race'],\n",
       " 'Rock': ['Brave', 'Race'],\n",
       " 'Brave': ['Race']}"
      ]
     },
     "execution_count": 136,
     "metadata": {},
     "output_type": "execute_result"
    }
   ],
   "source": [
    "temp"
   ]
  },
  {
   "cell_type": "code",
   "execution_count": 115,
   "id": "56f4b5dd",
   "metadata": {},
   "outputs": [
    {
     "data": {
      "text/plain": [
       "{'Bala': {'start_date': '08 jan', 'end_date': '28 jan'},\n",
       " 'Rock': {'start_date': '20 jan', 'end_date': '30 jan'},\n",
       " 'PolicyMaker': {'start_date': '29 jan', 'end_date': '16 feb'},\n",
       " 'Brave': {'start_date': '02 feb', 'end_date': '14 feb'},\n",
       " 'Race': {'start_date': '15 feb', 'end_date': '28 feb'}}"
      ]
     },
     "execution_count": 115,
     "metadata": {},
     "output_type": "execute_result"
    }
   ],
   "source": [
    "new_movie_info"
   ]
  },
  {
   "cell_type": "code",
   "execution_count": 23,
   "id": "b6b79609",
   "metadata": {},
   "outputs": [
    {
     "data": {
      "text/plain": [
       "{'Bala': 'PolicyMaker'}"
      ]
     },
     "execution_count": 23,
     "metadata": {},
     "output_type": "execute_result"
    }
   ],
   "source": [
    "seq[0]"
   ]
  },
  {
   "cell_type": "code",
   "execution_count": 11,
   "id": "c9e3dc16",
   "metadata": {},
   "outputs": [
    {
     "data": {
      "text/plain": [
       "('Bala-->PolicyMaker',\n",
       " 'Bala-->Brave',\n",
       " 'Bala-->Race',\n",
       " 'Rock-->Brave',\n",
       " 'Brave-->Race',\n",
       " 'Rock-->Race')"
      ]
     },
     "execution_count": 11,
     "metadata": {},
     "output_type": "execute_result"
    }
   ],
   "source": [
    "'Bala-->PolicyMaker', 'Bala-->Brave', 'Bala-->Race', 'Rock-->Brave', 'Brave-->Race',  'Rock-->Race', "
   ]
  },
  {
   "cell_type": "code",
   "execution_count": null,
   "id": "1e8b9fa7",
   "metadata": {},
   "outputs": [],
   "source": [
    "unq_seq = list(set(seq))\n",
    "print(unq_seq)\n",
    "m = []\n",
    "for i in range(len(unq_seq)):\n",
    "    m.append({unq_seq[i].split('-->')[0]:unq_seq[i].split('-->')[1]})\n",
    "m"
   ]
  },
  {
   "cell_type": "code",
   "execution_count": null,
   "id": "f72804a3",
   "metadata": {},
   "outputs": [],
   "source": [
    "for i in range(len(movie_info)):\n",
    "    if movie_info[i]['movie_name'] == \"Bala\":\n",
    "        print(movie_info[0])"
   ]
  },
  {
   "cell_type": "code",
   "execution_count": null,
   "id": "a351f5e9",
   "metadata": {},
   "outputs": [],
   "source": [
    "temp = [{\"bala\":[]},\n",
    "       {\"kala\":[]},\n",
    "       {\"ala\":[]}]"
   ]
  },
  {
   "cell_type": "code",
   "execution_count": null,
   "id": "77f26716",
   "metadata": {},
   "outputs": [],
   "source": [
    "for i in range(5):\n",
    "    temp[0]['bala'].append(i)"
   ]
  },
  {
   "cell_type": "code",
   "execution_count": null,
   "id": "31ee73e6",
   "metadata": {},
   "outputs": [],
   "source": [
    "temp"
   ]
  },
  {
   "cell_type": "code",
   "execution_count": null,
   "id": "e14f907c",
   "metadata": {},
   "outputs": [],
   "source": [
    "for "
   ]
  },
  {
   "cell_type": "code",
   "execution_count": null,
   "id": "c6b05681",
   "metadata": {},
   "outputs": [],
   "source": [
    "temp"
   ]
  },
  {
   "cell_type": "code",
   "execution_count": null,
   "id": "fb3ea0af",
   "metadata": {},
   "outputs": [],
   "source": []
  }
 ],
 "metadata": {
  "kernelspec": {
   "display_name": "Python 3",
   "language": "python",
   "name": "python3"
  },
  "language_info": {
   "codemirror_mode": {
    "name": "ipython",
    "version": 3
   },
   "file_extension": ".py",
   "mimetype": "text/x-python",
   "name": "python",
   "nbconvert_exporter": "python",
   "pygments_lexer": "ipython3",
   "version": "3.8.8"
  }
 },
 "nbformat": 4,
 "nbformat_minor": 5
}
